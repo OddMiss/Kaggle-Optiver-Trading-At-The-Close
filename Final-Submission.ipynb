{
 "cells": [
  {
   "cell_type": "code",
   "execution_count": 1,
   "id": "0e56b84c",
   "metadata": {
    "execution": {
     "iopub.execute_input": "2023-12-19T06:46:09.581530Z",
     "iopub.status.busy": "2023-12-19T06:46:09.581055Z",
     "iopub.status.idle": "2023-12-19T06:46:29.007247Z",
     "shell.execute_reply": "2023-12-19T06:46:29.005963Z"
    },
    "papermill": {
     "duration": 19.43685,
     "end_time": "2023-12-19T06:46:29.010633",
     "exception": false,
     "start_time": "2023-12-19T06:46:09.573783",
     "status": "completed"
    },
    "tags": []
   },
   "outputs": [
    {
     "name": "stdout",
     "output_type": "stream",
     "text": [
      "Found existing installation: lightgbm 3.3.2\r\n",
      "Uninstalling lightgbm-3.3.2:\r\n",
      "  Successfully uninstalled lightgbm-3.3.2\r\n",
      "Processing /kaggle/input/kaggle-packages/packages/lightgbm-4.1.0-py3-none-manylinux_2_28_x86_64.whl\r\n",
      "Requirement already satisfied: numpy in /opt/conda/lib/python3.10/site-packages (from lightgbm==4.1.0) (1.24.3)\r\n",
      "Requirement already satisfied: scipy in /opt/conda/lib/python3.10/site-packages (from lightgbm==4.1.0) (1.11.4)\r\n",
      "Installing collected packages: lightgbm\r\n",
      "Successfully installed lightgbm-4.1.0\r\n"
     ]
    }
   ],
   "source": [
    "!pip uninstall lightgbm -y\n",
    "!pip install '/kaggle/input/kaggle-packages/packages/lightgbm-4.1.0-py3-none-manylinux_2_28_x86_64.whl'"
   ]
  },
  {
   "cell_type": "code",
   "execution_count": 2,
   "id": "fa2622d4",
   "metadata": {
    "execution": {
     "iopub.execute_input": "2023-12-19T06:46:29.025000Z",
     "iopub.status.busy": "2023-12-19T06:46:29.024489Z",
     "iopub.status.idle": "2023-12-19T06:46:32.629972Z",
     "shell.execute_reply": "2023-12-19T06:46:32.628285Z"
    },
    "papermill": {
     "duration": 3.61679,
     "end_time": "2023-12-19T06:46:32.633395",
     "exception": false,
     "start_time": "2023-12-19T06:46:29.016605",
     "status": "completed"
    },
    "tags": []
   },
   "outputs": [
    {
     "name": "stdout",
     "output_type": "stream",
     "text": [
      "4.1.0\n"
     ]
    }
   ],
   "source": [
    "import lightgbm as lgb\n",
    "# !pip show lightgbm\n",
    "from lightgbm import early_stopping, log_evaluation\n",
    "print(lgb.__version__)"
   ]
  },
  {
   "cell_type": "code",
   "execution_count": 3,
   "id": "1cd0467d",
   "metadata": {
    "execution": {
     "iopub.execute_input": "2023-12-19T06:46:32.647044Z",
     "iopub.status.busy": "2023-12-19T06:46:32.646521Z",
     "iopub.status.idle": "2023-12-19T06:46:32.654018Z",
     "shell.execute_reply": "2023-12-19T06:46:32.652547Z"
    },
    "papermill": {
     "duration": 0.017577,
     "end_time": "2023-12-19T06:46:32.656737",
     "exception": false,
     "start_time": "2023-12-19T06:46:32.639160",
     "status": "completed"
    },
    "tags": []
   },
   "outputs": [
    {
     "name": "stdout",
     "output_type": "stream",
     "text": [
      "Linux\n"
     ]
    }
   ],
   "source": [
    "import platform\n",
    "print(platform.system())"
   ]
  },
  {
   "cell_type": "code",
   "execution_count": 4,
   "id": "0bacd47a",
   "metadata": {
    "_cell_guid": "b1076dfc-b9ad-4769-8c92-a6c4dae69d19",
    "_uuid": "8f2839f25d086af736a60e9eeb907d3b93b6e0e5",
    "execution": {
     "iopub.execute_input": "2023-12-19T06:46:32.669802Z",
     "iopub.status.busy": "2023-12-19T06:46:32.669246Z",
     "iopub.status.idle": "2023-12-19T06:46:32.680194Z",
     "shell.execute_reply": "2023-12-19T06:46:32.678752Z"
    },
    "papermill": {
     "duration": 0.02134,
     "end_time": "2023-12-19T06:46:32.683362",
     "exception": false,
     "start_time": "2023-12-19T06:46:32.662022",
     "status": "completed"
    },
    "tags": []
   },
   "outputs": [],
   "source": [
    "import pandas as pd\n",
    "import numpy as np\n",
    "import gc\n",
    "from itertools import combinations\n",
    "import warnings\n",
    "from sklearn.model_selection import KFold\n",
    "from sklearn.metrics import mean_absolute_error\n",
    "from warnings import simplefilter\n",
    "import joblib\n",
    "\n",
    "warnings.filterwarnings('ignore')\n",
    "simplefilter(action=\"ignore\", category=pd.errors.PerformanceWarning)\n",
    "\n",
    "is_train = False\n",
    "is_infer = True\n",
    "N_Folds = 4"
   ]
  },
  {
   "cell_type": "code",
   "execution_count": 5,
   "id": "6d414677",
   "metadata": {
    "execution": {
     "iopub.execute_input": "2023-12-19T06:46:32.696751Z",
     "iopub.status.busy": "2023-12-19T06:46:32.696296Z",
     "iopub.status.idle": "2023-12-19T06:46:32.701801Z",
     "shell.execute_reply": "2023-12-19T06:46:32.700157Z"
    },
    "papermill": {
     "duration": 0.015661,
     "end_time": "2023-12-19T06:46:32.704611",
     "exception": false,
     "start_time": "2023-12-19T06:46:32.688950",
     "status": "completed"
    },
    "tags": []
   },
   "outputs": [],
   "source": [
    "# import os\n",
    "# os.system('mkdir kaggle-optiver-models')"
   ]
  },
  {
   "cell_type": "code",
   "execution_count": 6,
   "id": "d03d5bf6",
   "metadata": {
    "execution": {
     "iopub.execute_input": "2023-12-19T06:46:32.718074Z",
     "iopub.status.busy": "2023-12-19T06:46:32.717620Z",
     "iopub.status.idle": "2023-12-19T06:46:59.851373Z",
     "shell.execute_reply": "2023-12-19T06:46:59.849857Z"
    },
    "papermill": {
     "duration": 27.144173,
     "end_time": "2023-12-19T06:46:59.854629",
     "exception": false,
     "start_time": "2023-12-19T06:46:32.710456",
     "status": "completed"
    },
    "tags": []
   },
   "outputs": [],
   "source": [
    "train = pd.read_csv('/kaggle/input/optiver-trading-at-the-close/train.csv')\n",
    "\n",
    "#整体特征\n",
    "median_sizes = train.groupby('stock_id')['bid_size'].median() + train.groupby('stock_id')['ask_size'].median()\n",
    "std_sizes = train.groupby('stock_id')['bid_size'].std() + train.groupby('stock_id')['ask_size'].std()\n",
    "max_sizes = train.groupby('stock_id')['bid_size'].max() + train.groupby('stock_id')['ask_size'].max()\n",
    "min_sizes = train.groupby('stock_id')['bid_size'].min() + train.groupby('stock_id')['ask_size'].min()\n",
    "mean_sizes = train.groupby('stock_id')['bid_size'].mean() + train.groupby('stock_id')['ask_size'].mean()\n",
    "first_sizes = train.groupby('stock_id')['bid_size'].first() + train.groupby('stock_id')['ask_size'].first()\n",
    "last_sizes = train.groupby('stock_id')['bid_size'].last() + train.groupby('stock_id')['ask_size'].last()\n",
    "#可以再做日期的（好像没看到drop掉日期列）\n",
    "\n",
    "train = train.dropna(subset=['target'])"
   ]
  },
  {
   "cell_type": "code",
   "execution_count": 7,
   "id": "f64f92bf",
   "metadata": {
    "execution": {
     "iopub.execute_input": "2023-12-19T06:46:59.868619Z",
     "iopub.status.busy": "2023-12-19T06:46:59.868112Z",
     "iopub.status.idle": "2023-12-19T06:46:59.884640Z",
     "shell.execute_reply": "2023-12-19T06:46:59.883238Z"
    },
    "papermill": {
     "duration": 0.027875,
     "end_time": "2023-12-19T06:46:59.888273",
     "exception": false,
     "start_time": "2023-12-19T06:46:59.860398",
     "status": "completed"
    },
    "tags": []
   },
   "outputs": [],
   "source": [
    "# Feature engineering\n",
    "def feature_eng(df):\n",
    "    # Remove ['row_id', 'date_id','time_id'].\n",
    "    cols = [c for c in df.columns if c not in ['row_id', 'date_id','time_id']]\n",
    "    df = df[cols]\n",
    "    \n",
    "    # 匹配失败数量和匹配成功数量的比率\n",
    "    df['imbalance_ratio'] = df['imbalance_size'] / df['matched_size']\n",
    "    # 供需市场的差额\n",
    "    df['bid_ask_volume_diff'] = df['ask_size'] - df['bid_size']\n",
    "    # 供需市场总和\n",
    "    df['bid_plus_ask_sizes'] = df['bid_size'] + df['ask_size']\n",
    "    \n",
    "    # 供需价格的均值\n",
    "    df['mid_price'] = (df['ask_price'] + df['bid_price']) / 2\n",
    "    \n",
    "    # 整体数据情况\n",
    "    df['median_size'] = df['stock_id'].map(median_sizes.to_dict())\n",
    "    df['std_size'] = df['stock_id'].map(std_sizes.to_dict())\n",
    "    df['max_size'] = df['stock_id'].map(max_sizes.to_dict())\n",
    "    df['min_size'] = df['stock_id'].map(min_sizes.to_dict())\n",
    "    df['mean_size'] = df['stock_id'].map(mean_sizes.to_dict())\n",
    "    df['first_size'] = df['stock_id'].map(first_sizes.to_dict())\n",
    "    df['last_size'] = df['stock_id'].map(last_sizes.to_dict())\n",
    "    \n",
    "    # 整体市场规模和当前的市场规模比较\n",
    "    df['high_volume'] = np.where(df['bid_plus_ask_sizes'] > df['median_size'], 1, 0)\n",
    "    \n",
    "    prices = ['reference_price', 'far_price', 'near_price', 'ask_price', 'bid_price', 'wap']\n",
    "    \n",
    "    # 价格之间做差，做差/求和\n",
    "    # combinations(range(4), 3) --> (0, 1, 2), (0, 1, 3), (0, 2, 3), (1, 2, 3)\n",
    "    for c in combinations(prices, 2):\n",
    "        df[f'{c[0]}_minus_{c[1]}'] = (df[f'{c[0]}'] - df[f'{c[1]}']).astype(np.float32)\n",
    "        df[f'{c[0]}_{c[1]}_imb'] = df.eval(f'({c[0]} - {c[1]}) / ({c[0]} + {c[1]})')\n",
    "        \n",
    "    for c in combinations(prices, 3):\n",
    "        max_ = df[list(c)].max(axis=1)\n",
    "        min_ = df[list(c)].min(axis=1)\n",
    "        mid_ = df[list(c)].sum(axis=1) - min_ - max_\n",
    "        \n",
    "        df[f'{c[0]}_{c[1]}_{c[2]}_imb2'] = (max_ - mid_) / (mid_ - min_)\n",
    "    \n",
    "    gc.collect()\n",
    "    \n",
    "    return df"
   ]
  },
  {
   "cell_type": "code",
   "execution_count": 8,
   "id": "728f3820",
   "metadata": {
    "execution": {
     "iopub.execute_input": "2023-12-19T06:46:59.906190Z",
     "iopub.status.busy": "2023-12-19T06:46:59.905650Z",
     "iopub.status.idle": "2023-12-19T06:48:57.445245Z",
     "shell.execute_reply": "2023-12-19T06:48:57.443529Z"
    },
    "papermill": {
     "duration": 117.552914,
     "end_time": "2023-12-19T06:48:57.448892",
     "exception": false,
     "start_time": "2023-12-19T06:46:59.895978",
     "status": "completed"
    },
    "tags": []
   },
   "outputs": [],
   "source": [
    "mae_scores = []\n",
    "y = train['target'].values\n",
    "X = feature_eng(train.drop(columns='target'))\n",
    "\n",
    "y_min = np.min(y)\n",
    "y_max = np.max(y)\n",
    "\n",
    "if is_train:\n",
    "    # 模型在训练集表现的很好 0.45   -> 0.43\n",
    "    # 模型在验证表现的很好 0.44     -> 0.45\n",
    "\n",
    "    # 模型是变得更加过拟合了\n",
    "    # 超参数搜索的工具、gridsearch automl\n",
    "    params = {\n",
    "        'learning_rate': 0.018,\n",
    "        'max_depth': 9,\n",
    "        'n_estimators': 600,\n",
    "        'num_leaves': 440,\n",
    "        'objective': 'mae', # 损失函数\n",
    "        'random_state': 42, # 随机性\n",
    "        'reg_alpha': 0.01,\n",
    "        'reg_lambda': 0.01\n",
    "        #'device': 'gpu' # 设备\n",
    "    }\n",
    "    kf = KFold(n_splits=N_Folds, shuffle=True, random_state=42)\n",
    "\n",
    "    for fold, (train_idx, valid_idx) in enumerate(kf.split(X, y)):\n",
    "        X_train, X_valid = X.iloc[train_idx], X.iloc[valid_idx]\n",
    "        y_train, y_valid = y[train_idx], y[valid_idx]\n",
    "\n",
    "        # Save more RAM than using pandas dataframe.\n",
    "        train_data = lgb.Dataset(X_train, label=y_train)\n",
    "        valid_data = lgb.Dataset(X_valid, label=y_valid)\n",
    "\n",
    "        # Early stopping.\n",
    "        Callbacks = [log_evaluation(period=50), early_stopping(stopping_rounds=50)]\n",
    "        m = lgb.train(params, train_data, valid_sets=[train_data, valid_data], callbacks=Callbacks)\n",
    "        print(f\"Fold {fold+1} Trainning finished.\")\n",
    "\n",
    "        # Save model.\n",
    "        model_filename = f\"lgb-models-optv2/model_fold_{fold+1}.pkl\"\n",
    "        joblib.dump(m, model_filename)\n",
    "        y_pred_valid = m.predict(X_valid)\n",
    "\n",
    "        y_pred_valid = np.nan_to_num(y_pred_valid)\n",
    "        y_valid = np.nan_to_num(y_valid)\n",
    "        mae = mean_absolute_error(y_valid, y_pred_valid)\n",
    "        mae_scores.append(mae)\n",
    "\n",
    "    # 计算4折平均的MAE\n",
    "    average_mae = np.mean(mae_scores)\n",
    "    print(f\"4 fold MAE: {average_mae}\")\n",
    "\n",
    "def zero_sum(prices, volumes):\n",
    "    std_error = np.sqrt(volumes)\n",
    "    step = np.sum(prices)/np.sum(std_error)\n",
    "    out = prices-std_error*step\n",
    "    \n",
    "    return out"
   ]
  },
  {
   "cell_type": "code",
   "execution_count": 9,
   "id": "108920ef",
   "metadata": {
    "execution": {
     "iopub.execute_input": "2023-12-19T06:48:57.462397Z",
     "iopub.status.busy": "2023-12-19T06:48:57.461828Z",
     "iopub.status.idle": "2023-12-19T06:51:12.815205Z",
     "shell.execute_reply": "2023-12-19T06:51:12.813761Z"
    },
    "papermill": {
     "duration": 135.364046,
     "end_time": "2023-12-19T06:51:12.818551",
     "exception": false,
     "start_time": "2023-12-19T06:48:57.454505",
     "status": "completed"
    },
    "tags": []
   },
   "outputs": [
    {
     "name": "stdout",
     "output_type": "stream",
     "text": [
      "This version of the API is not optimized and should not be used to estimate the runtime of your code on the hidden test set.\n"
     ]
    }
   ],
   "source": [
    "if is_infer:\n",
    "    import optiver2023\n",
    "    env = optiver2023.make_env()\n",
    "    iter_test = env.iter_test()\n",
    "    counter = 0\n",
    "    predictions = []\n",
    "\n",
    "    for (test, revealed_targets, sample_prediction) in iter_test:\n",
    "        feat = feature_eng(test)\n",
    "        fold_prediction = 0\n",
    "        for fold in range(0, N_Folds):\n",
    "            model_filename = f\"/kaggle/input/kaggle-optiver-models/models-optiver/model_fold_{fold+1}.pkl\"\n",
    "            m = joblib.load(model_filename)\n",
    "            fold_prediction += m.predict(feat)\n",
    "        \n",
    "        fold_prediction /= N_Folds\n",
    "        fold_prediction = zero_sum(fold_prediction, test.loc[:,'bid_size'] + test.loc[:,'ask_size'])\n",
    "        clipped_predictions = np.clip(fold_prediction, y_min, y_max)\n",
    "        sample_prediction['target'] = clipped_predictions\n",
    "        env.predict(sample_prediction)\n",
    "        counter += 1"
   ]
  }
 ],
 "metadata": {
  "kaggle": {
   "accelerator": "none",
   "dataSources": [
    {
     "databundleVersionId": 7056235,
     "sourceId": 57891,
     "sourceType": "competition"
    },
    {
     "datasetId": 4189717,
     "sourceId": 7235148,
     "sourceType": "datasetVersion"
    },
    {
     "datasetId": 4189846,
     "sourceId": 7235553,
     "sourceType": "datasetVersion"
    }
   ],
   "dockerImageVersionId": 30626,
   "isGpuEnabled": false,
   "isInternetEnabled": false,
   "language": "python",
   "sourceType": "notebook"
  },
  "kernelspec": {
   "display_name": "Python 3",
   "language": "python",
   "name": "python3"
  },
  "language_info": {
   "codemirror_mode": {
    "name": "ipython",
    "version": 3
   },
   "file_extension": ".py",
   "mimetype": "text/x-python",
   "name": "python",
   "nbconvert_exporter": "python",
   "pygments_lexer": "ipython3",
   "version": "3.10.12"
  },
  "papermill": {
   "default_parameters": {},
   "duration": 308.689192,
   "end_time": "2023-12-19T06:51:14.356352",
   "environment_variables": {},
   "exception": null,
   "input_path": "__notebook__.ipynb",
   "output_path": "__notebook__.ipynb",
   "parameters": {},
   "start_time": "2023-12-19T06:46:05.667160",
   "version": "2.4.0"
  }
 },
 "nbformat": 4,
 "nbformat_minor": 5
}
